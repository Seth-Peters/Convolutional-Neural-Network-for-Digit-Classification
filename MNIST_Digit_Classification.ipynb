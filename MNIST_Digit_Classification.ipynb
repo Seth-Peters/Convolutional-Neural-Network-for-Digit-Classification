{
  "nbformat": 4,
  "nbformat_minor": 0,
  "metadata": {
    "colab": {
      "name": "MNIST Digit Classification.ipynb",
      "provenance": []
    },
    "kernelspec": {
      "name": "python3",
      "display_name": "Python 3"
    }
  },
  "cells": [
    {
      "cell_type": "markdown",
      "metadata": {
        "id": "tx5sqoVnevAa",
        "colab_type": "text"
      },
      "source": [
        "## Building a Convolutional Neural Network (CNN) to recognize handwritten digits classified between 0-9."
      ]
    },
    {
      "cell_type": "code",
      "metadata": {
        "id": "wmP3r1DNbhxy",
        "colab_type": "code",
        "colab": {}
      },
      "source": [
        "## Import statements needed in the code\n",
        "import tensorflow as tf\n",
        "import keras\n",
        "from keras.datasets import mnist \n",
        "import numpy as np\n",
        "from tensorflow.keras import datasets, layers, models\n",
        "import matplotlib.pyplot as plt\n",
        "from keras.utils import to_categorical"
      ],
      "execution_count": 0,
      "outputs": []
    },
    {
      "cell_type": "code",
      "metadata": {
        "id": "LY9kBnh-cAhB",
        "colab_type": "code",
        "colab": {}
      },
      "source": [
        "## Load, normalize, and reshape image data\n",
        "\n",
        "mnist = tf.contrib.learn.datasets.load_dataset(\"mnist\")\n",
        " \n",
        "train_X = mnist.train.images.reshape(mnist.train.images.shape[0], 28, 28, 1)\n",
        "train_Y = np.asarray(mnist.train.labels, dtype=np.int32)\n",
        "test_X = mnist.test.images.reshape(mnist.test.images.shape[0], 28, 28, 1)\n",
        "test_Y = np.asarray(mnist.test.labels, dtype=np.int32)"
      ],
      "execution_count": 0,
      "outputs": []
    },
    {
      "cell_type": "code",
      "metadata": {
        "id": "D1RFy9zli8HL",
        "colab_type": "code",
        "outputId": "24d4bf5d-5113-4d8f-b3d0-5815f692f383",
        "colab": {
          "base_uri": "https://localhost:8080/",
          "height": 88
        }
      },
      "source": [
        "## Build the model (CNN)\n",
        "\n",
        "model = models.Sequential()\n",
        "model.add(layers.Conv2D(32,(3,3),activation='relu',input_shape = (train_X.shape[1],train_X.shape[2],1)))\n",
        "model.add(layers.MaxPool2D(pool_size=(2,2)))\n",
        "model.add(layers.Conv2D(64,(2,2),activation='relu'))\n",
        "model.add(layers.MaxPool2D(pool_size=(2,2)))\n",
        "model.add(layers.Conv2D(64,(2,2),activation='relu'))\n",
        "model.add(layers.Flatten())\n",
        "model.add(layers.Dense(64,activation = 'relu'))\n",
        "model.add(layers.Dense(10, activation = 'softmax'))"
      ],
      "execution_count": 0,
      "outputs": [
        {
          "output_type": "stream",
          "text": [
            "WARNING:tensorflow:From /usr/local/lib/python3.6/dist-packages/tensorflow_core/python/ops/resource_variable_ops.py:1630: calling BaseResourceVariable.__init__ (from tensorflow.python.ops.resource_variable_ops) with constraint is deprecated and will be removed in a future version.\n",
            "Instructions for updating:\n",
            "If using Keras pass *_constraint arguments to layers.\n"
          ],
          "name": "stdout"
        }
      ]
    },
    {
      "cell_type": "code",
      "metadata": {
        "id": "VwkLnTs-ulXG",
        "colab_type": "code",
        "colab": {}
      },
      "source": [
        "## Compile and optimize the model\n",
        "\n",
        "model.compile(optimizer='adam',\n",
        "              loss='sparse_categorical_crossentropy',\n",
        "              metrics=['accuracy'])"
      ],
      "execution_count": 0,
      "outputs": []
    },
    {
      "cell_type": "code",
      "metadata": {
        "id": "-9i8AEv-wxOI",
        "colab_type": "code",
        "outputId": "3db17dcd-2002-4fde-cbcd-42cef92fcb67",
        "colab": {
          "base_uri": "https://localhost:8080/",
          "height": 170
        }
      },
      "source": [
        "## Train the model\n",
        "\n",
        "model.fit(train_X, train_Y, batch_size= 100, epochs=4, validation_data=(test_X, test_Y))\n",
        "\n",
        "## Now we save the weights to our previously trained model so that we can use this\n",
        "## model whenever we want without needing to retrain the model.\n",
        "\n",
        "model.save_weights('CNN_model')"
      ],
      "execution_count": 0,
      "outputs": [
        {
          "output_type": "stream",
          "text": [
            "Train on 55000 samples, validate on 10000 samples\n",
            "Epoch 1/4\n",
            "55000/55000 [==============================] - 43s 773us/sample - loss: 0.2267 - acc: 0.9319 - val_loss: 0.0554 - val_acc: 0.9824\n",
            "Epoch 2/4\n",
            "55000/55000 [==============================] - 42s 759us/sample - loss: 0.0568 - acc: 0.9821 - val_loss: 0.0440 - val_acc: 0.9854\n",
            "Epoch 3/4\n",
            "55000/55000 [==============================] - 38s 697us/sample - loss: 0.0407 - acc: 0.9865 - val_loss: 0.0373 - val_acc: 0.9873\n",
            "Epoch 4/4\n",
            "55000/55000 [==============================] - 39s 708us/sample - loss: 0.0310 - acc: 0.9901 - val_loss: 0.0283 - val_acc: 0.9903\n"
          ],
          "name": "stdout"
        }
      ]
    },
    {
      "cell_type": "code",
      "metadata": {
        "id": "9bZRkjoDTCgs",
        "colab_type": "code",
        "outputId": "41387093-d24c-40c7-bc3a-54a7a34881c1",
        "colab": {
          "base_uri": "https://localhost:8080/",
          "height": 51
        }
      },
      "source": [
        "## Load our model weights and predict some unseen instances\n",
        "\n",
        "model.load_weights('CNN_model')\n",
        "\n",
        "predictions = model.predict(test_X)\n",
        "\n",
        "predictions = np.argmax(predictions,axis=1)\n",
        "\n",
        "print(\"Model's digit preditions: \", predictions[:10])\n",
        "\n",
        "print(\"Actual digits: \", test_Y[:10])\n",
        "\n",
        "## As we can see our model is working quite well. Accuracy of 99.01%"
      ],
      "execution_count": 0,
      "outputs": [
        {
          "output_type": "stream",
          "text": [
            "Model's digit preditions:  [7 2 1 0 4 1 4 9 5 9]\n",
            "Actual digits:  [7 2 1 0 4 1 4 9 5 9]\n"
          ],
          "name": "stdout"
        }
      ]
    },
    {
      "cell_type": "code",
      "metadata": {
        "id": "SzfIa1j3sty5",
        "colab_type": "code",
        "outputId": "0402f7c9-bcf8-43b2-fb03-51c2cc0f1a07",
        "colab": {
          "base_uri": "https://localhost:8080/",
          "height": 516
        }
      },
      "source": [
        "## Let's visualize some of the examples that were incorrectly predicted by our model\n",
        "\n",
        "fig = plt.figure(figsize=(8,8))\n",
        "a = fig.add_subplot(2, 2, 1)\n",
        "imgplot = plt.imshow(test_X[115].reshape(28,28))\n",
        "a.set_title(\"Predicted: 9, Actual: 4\")\n",
        "a = fig.add_subplot(2, 2, 2)\n",
        "imgplot = plt.imshow(test_X[321].reshape(28,28))\n",
        "a.set_title(\"Predicted: 7, Actual: 2\")\n",
        "a = fig.add_subplot(2, 2, 3)\n",
        "imgplot = plt.imshow(test_X[445].reshape(28,28))\n",
        "a.set_title(\"Predicted: 0, Actual: 6\")\n",
        "a = fig.add_subplot(2, 2, 4)\n",
        "imgplot = plt.imshow(test_X[582].reshape(28,28))\n",
        "a.set_title(\"Predicted: 2, Actual: 8\")\n",
        "\n",
        "## These examples were quite difficult. Even a human could have possibly incorrectly \n",
        "## classified these numbers. So it is understandable that our model did as well."
      ],
      "execution_count": 0,
      "outputs": [
        {
          "output_type": "execute_result",
          "data": {
            "text/plain": [
              "Text(0.5, 1.0, 'Predicted: 2, Actual: 8')"
            ]
          },
          "metadata": {
            "tags": []
          },
          "execution_count": 8
        },
        {
          "output_type": "display_data",
          "data": {
            "image/png": "[encoded data removed]",
            "text/plain": [
              "<Figure size 576x576 with 4 Axes>"
            ]
          },
          "metadata": {
            "tags": []
          }
        }
      ]
    }
  ]
}